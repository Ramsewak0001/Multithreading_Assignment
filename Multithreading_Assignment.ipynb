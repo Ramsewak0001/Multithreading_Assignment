{
 "cells": [
  {
   "cell_type": "code",
   "execution_count": null,
   "id": "340ef7e9-04c7-4ac7-9e8a-cf2753bb7de6",
   "metadata": {},
   "outputs": [],
   "source": [
    "Q1. What is multithreading in python? Why is it used? Name the module used to handle threads in python."
   ]
  },
  {
   "cell_type": "code",
   "execution_count": null,
   "id": "734fc77f-20d6-4669-a741-6e0989f5c9e2",
   "metadata": {},
   "outputs": [],
   "source": [
    "Multithreading in Python is a popular technique that enables multiple tasks to be executed simultaneously. \n",
    "In simple words, the ability of a processor to execute multiple threads simultaneously is known as multithreading. \n",
    "Python multithreading facilitates sharing data space and resources of multiple threads with the main thread.\n",
    "\n",
    "Multithreading is used in Python for speeding up computations and I/O-bound tasks. \n",
    "It is not recommended for CPU-bound tasks because of the Global Interpreter Lock (GIL) which allows only one thread to execute at a time.\n",
    "\n",
    "The module used to handle threads in Python is called threading"
   ]
  },
  {
   "cell_type": "code",
   "execution_count": null,
   "id": "a4023fe4-1919-4478-9a6f-d05361c2471b",
   "metadata": {},
   "outputs": [],
   "source": [
    "-----------------------------------------------------------------------------------------------------------------------------"
   ]
  },
  {
   "cell_type": "code",
   "execution_count": null,
   "id": "20bb7e10-d2b3-466a-aa18-0175f739f552",
   "metadata": {},
   "outputs": [],
   "source": [
    "Q2. Why threading module used? Write the use of the following functions :\n",
    "    1. activeCount\n",
    "    2. currentThread\n",
    "    3. enumerate"
   ]
  },
  {
   "cell_type": "code",
   "execution_count": null,
   "id": "ac128a43-0129-4f4c-b834-df2671f117c9",
   "metadata": {},
   "outputs": [],
   "source": [
    "The threading module is used in Python to create and manage new threads of execution.\n",
    "Threads are used to execute multiple tasks simultaneously. The threading module provides a way to create new threads,\n",
    "manage them, and communicate between them. It provides a way to run multiple threads concurrently.\n",
    "\n",
    "\n",
    "activeCount():\n",
    "              This function returns the number of thread objects that are active.\n",
    "currentThread():\n",
    "               This function returns a reference to the current thread object.\n",
    "enumerate():\n",
    "           This function returns a list of all thread objects that are currently active."
   ]
  },
  {
   "cell_type": "code",
   "execution_count": null,
   "id": "fa38ec9e-0d3c-45ba-8895-b68360c77606",
   "metadata": {},
   "outputs": [],
   "source": [
    "-----------------------------------------------------------------------------------------------------------------------------"
   ]
  },
  {
   "cell_type": "code",
   "execution_count": null,
   "id": "4b3cd3ac-3ab3-40fa-b15c-333cc374ca45",
   "metadata": {},
   "outputs": [],
   "source": [
    "Q3. Explain the following functions :\n",
    "1. run()\n",
    "2. start()\n",
    "3. join()\n",
    "4. isAlive()"
   ]
  },
  {
   "cell_type": "code",
   "execution_count": null,
   "id": "35481778-8510-4095-8a06-e8c96144ae11",
   "metadata": {},
   "outputs": [],
   "source": [
    "run():\n",
    "      The run() function is not a specific function of the threading module but is often overridden in custom thread classes.\n",
    "      It represents the entry point for the thread's execution logic. When a thread object's start() method is called, \n",
    "      it in turn invokes the run() method of that thread.\n",
    "        \n",
    "start():\n",
    "       The start() function is a method of the Thread class provided by the threading module. \n",
    "       It starts the execution of a thread by creating a new thread of control. When start() is called on a thread object,\n",
    "       it invokes the thread's run() method in a separate thread of execution. \n",
    "        \n",
    "join(): \n",
    "      The join() function is a method of the Thread class. It blocks the calling thread until the thread on which \n",
    "      it is called completes its execution. In other words, it allows the calling thread to wait for the completion\n",
    "      of another thread.\n",
    "        \n",
    "isAlive(): \n",
    "       The isAlive() function is a method of the Thread class. It returns a Boolean value indicating whether \n",
    "       the thread is currently active or not. If the thread has started and has not yet completed its execution,\n",
    "       isAlive() will return True. Once the thread has finished executing, isAlive() will return False."
   ]
  },
  {
   "cell_type": "code",
   "execution_count": null,
   "id": "c9bf1f07-0f81-4c7b-8abc-26f591b0512f",
   "metadata": {},
   "outputs": [],
   "source": [
    "-----------------------------------------------------------------------------------------------------------------------------"
   ]
  },
  {
   "cell_type": "code",
   "execution_count": null,
   "id": "f68fb5fa-48cc-4aaa-b5d7-b4eb5270f667",
   "metadata": {},
   "outputs": [],
   "source": [
    "Q4. Write a python program to create two threads. Thread one must print the list of squares and thread \n",
    "   two must print the list of cubes."
   ]
  },
  {
   "cell_type": "code",
   "execution_count": 17,
   "id": "058a9e76-efb3-4241-ab8e-d3f8821fa6da",
   "metadata": {},
   "outputs": [],
   "source": [
    "import logging\n",
    "logging.basicConfig(filename = \"Cube.log\" , level = logging.DEBUG)"
   ]
  },
  {
   "cell_type": "code",
   "execution_count": 18,
   "id": "b9cd069c-d436-4015-922f-3fb86b3500ef",
   "metadata": {},
   "outputs": [],
   "source": [
    "import threading\n",
    "\n",
    "def cube_number():\n",
    "    cube = [number ** 3 for number in range(10)]\n",
    "    logging.info(\"The list of cube of range(10) is {}\".format(cube))\n",
    "    \n",
    "def sq_number():\n",
    "    square = [number ** 2 for number in range(10)]\n",
    "    logging.info(\"The list of square of range(10) is {}\".format(square))\n",
    "\n",
    "t1 = threading.Thread(target=cube_number )\n",
    "\n",
    "t2 = threading.Thread(target= sq_number )\n",
    "t1.start()\n",
    "t2.start()\n",
    "\n",
    "t1.join()\n",
    "t2.join()\n"
   ]
  },
  {
   "cell_type": "code",
   "execution_count": 19,
   "id": "ce1126ff-0aee-436d-ad1a-916ef2ec6c2f",
   "metadata": {},
   "outputs": [],
   "source": [
    "logging.shutdown()"
   ]
  },
  {
   "cell_type": "code",
   "execution_count": null,
   "id": "b53826d9-be49-4396-8f6d-d713033385f3",
   "metadata": {},
   "outputs": [],
   "source": [
    "-----------------------------------------------------------------------------------------------------------------------------"
   ]
  },
  {
   "cell_type": "code",
   "execution_count": null,
   "id": "58c6678b-c616-4fbc-95e7-8abc92c4f657",
   "metadata": {},
   "outputs": [],
   "source": [
    "Q5. State advantages and disadvantages of multithreading."
   ]
  },
  {
   "cell_type": "code",
   "execution_count": null,
   "id": "c9c9ce0f-ef6c-403e-a119-4bf0eb548b3a",
   "metadata": {},
   "outputs": [],
   "source": [
    "Advantages : \n",
    "            1. Simultaneous and fully symmetric use of multiple processors for computation and I/O.\n",
    "            2. Superior application responsiveness.\n",
    "            3. Improved server responsiveness.\n",
    "            4. Minimized system resource usage.\n",
    "            5. Program structure simplification.\n",
    "            6. Better communication.\n",
    "            \n",
    "Disadvantage :\n",
    "           1. Synchronization overhead:\n",
    "           2. Context switching\n",
    "           3. Hard to predict behavior\n",
    "           4. Limited by hardware"
   ]
  },
  {
   "cell_type": "code",
   "execution_count": null,
   "id": "c70ae7c2-ebce-4d4b-b3e6-237f0e9086e7",
   "metadata": {},
   "outputs": [],
   "source": [
    "----------------------------------------------------------------------------------------------------------------------------"
   ]
  },
  {
   "cell_type": "code",
   "execution_count": null,
   "id": "31d9d6c4-6e18-4be3-8ec5-a1a874058ad9",
   "metadata": {},
   "outputs": [],
   "source": [
    "Q6. Explain deadlocks and race conditions."
   ]
  },
  {
   "cell_type": "code",
   "execution_count": null,
   "id": "34f44c24-4377-42eb-803e-93752344a38c",
   "metadata": {},
   "outputs": [],
   "source": [
    "Deadlock :\n",
    "         Deadlock occurs when two or more threads are waiting for each other to release a resource.\n",
    "    \n",
    "Race : \n",
    "     Race conditions occur when two or more threads access a shared resource simultaneously and the order in which \n",
    "     they access the resource affects the outcome of the program."
   ]
  }
 ],
 "metadata": {
  "kernelspec": {
   "display_name": "Python 3 (ipykernel)",
   "language": "python",
   "name": "python3"
  },
  "language_info": {
   "codemirror_mode": {
    "name": "ipython",
    "version": 3
   },
   "file_extension": ".py",
   "mimetype": "text/x-python",
   "name": "python",
   "nbconvert_exporter": "python",
   "pygments_lexer": "ipython3",
   "version": "3.10.8"
  }
 },
 "nbformat": 4,
 "nbformat_minor": 5
}
